{
 "metadata": {
  "name": "Notebook 1 Test"
 },
 "nbformat": 3,
 "nbformat_minor": 0,
 "worksheets": [
  {
   "cells": [
    {
     "cell_type": "code",
     "collapsed": false,
     "input": [
      "import DataAccess as da\n",
      "import os\n",
      "\n",
      "# folder name for paths\n",
      "folder = \"csv\"\n",
      "\n",
      "# get data\n",
      "cost_data_fn = \"PolarisAACQ_COST_SIMDATA.csv\"\n",
      "sched_data_fn = \"PolarisAACQ_SCHEDULE_SIMDATA.csv\"\n",
      "\n",
      "# create csv obj\n",
      "cost_obj = da.ReadFromCSV(folder, cost_data_fn, True,os.getcwd())\n",
      "sched_obj = da.ReadFromCSV(folder, sched_data_fn, True,os.getcwd()) \n",
      "\n",
      "# get data\n",
      "cost_data = cost_obj.RawDataAsNumpy()\n",
      "sched_data = sched_obj.RawDataAsNumpy()"
     ],
     "language": "python",
     "metadata": {},
     "outputs": [],
     "prompt_number": 1
    },
    {
     "cell_type": "code",
     "collapsed": false,
     "input": [
      "from scipy.stats.stats import pearsonr\n",
      "from operator import itemgetter\n",
      "\n",
      "# pearson\n",
      "yhat_cost = cost_data[0]\n",
      "yhat_sched = sched_data[0]\n",
      "\n",
      "rho_cost = []\n",
      "rho_sched = []\n",
      "\n",
      "# compute Rho\n",
      "for x in range(1, len(cost_data)-1):\n",
      "    rho_cost.append(pearsonr(cost_data[x], yhat_cost))\n",
      "    \n",
      "for x in range(1, len(sched_data)-1):\n",
      "    rho_sched.append(pearsonr(sched_data[x], yhat_sched))\n",
      "\n",
      "# sort by Rho\n",
      "sorted_rho_cost = sorted(rho_cost, key=itemgetter(1))\n",
      "sorted_rho_sched = sorted(rho_sched, key=itemgetter(1))"
     ],
     "language": "python",
     "metadata": {},
     "outputs": [],
     "prompt_number": 17
    },
    {
     "cell_type": "code",
     "collapsed": false,
     "input": [
      "from matplotlib import pyplot as plt\n",
      "\n",
      "plt.scatter(cost_data[0], cost_data[100])\n",
      "plt.show()"
     ],
     "language": "python",
     "metadata": {},
     "outputs": [],
     "prompt_number": 13
    },
    {
     "cell_type": "code",
     "collapsed": false,
     "input": [
      "\"\"\"\n",
      "The book uses a custom matplotlibrc file, which provides the unique styles for\n",
      "matplotlib plots. If executing this book, and you wish to use the book's\n",
      "styling, provided are two options:\n",
      "    1. Overwrite your own matplotlibrc file with the rc-file provided in the\n",
      "       book's styles/ dir. See http://matplotlib.org/users/customizing.html\n",
      "    2. Also in the styles is  bmh_matplotlibrc.json file. This can be used to\n",
      "       update the styles in only this notebook. Try running the following code:\n",
      "\n",
      "        import json\n",
      "        s = json.load( open(\"../styles/bmh_matplotlibrc.json\") )\n",
      "        matplotlib.rcParams.update(s)\n",
      "\n",
      "\"\"\"\n",
      "\n",
      "# The code below can be passed over, as it is currently not important, plus it\n",
      "# uses advanced topics we have not covered yet. LOOK AT PICTURE, MICHAEL!\n",
      "#%matplotlib inline\n",
      "from IPython.core.pylabtools import figsize\n",
      "import numpy as np\n",
      "from matplotlib import pyplot as plt\n",
      "figsize(11, 9)\n",
      "\n",
      "import scipy.stats as stats\n",
      "\n",
      "dist = stats.beta\n",
      "n_trials = [0, 1, 2, 3, 4, 5, 8, 15, 50, 500]\n",
      "data = stats.bernoulli.rvs(0.5, size=n_trials[-1])\n",
      "x = np.linspace(0, 1, 100)\n",
      "\n",
      "# For the already prepared, I'm using Binomial's conj. prior.\n",
      "for k, N in enumerate(n_trials):\n",
      "    sx = plt.subplot(len(n_trials) / 2, 2, k + 1)\n",
      "    plt.xlabel(\"$p$, probability of heads\") \\\n",
      "        if k in [0, len(n_trials) - 1] else None\n",
      "    plt.setp(sx.get_yticklabels(), visible=False)\n",
      "    heads = data[:N].sum()\n",
      "    y = dist.pdf(x, 1 + heads, 1 + N - heads)\n",
      "    plt.plot(x, y, label=\"observe %d tosses,\\n %d heads\" % (N, heads))\n",
      "    plt.fill_between(x, 0, y, color=\"#348ABD\", alpha=0.4)\n",
      "    plt.vlines(0.5, 0, 4, color=\"k\", linestyles=\"--\", lw=1)\n",
      "\n",
      "    leg = plt.legend()\n",
      "    leg.get_frame().set_alpha(0.4)\n",
      "    plt.autoscale(tight=True)\n",
      "\n",
      "\n",
      "plt.suptitle(\"Bayesian updating of posterior probabilities\",\n",
      "             y=1.02,\n",
      "             fontsize=14)\n",
      "\n",
      "plt.tight_layout()\n",
      "plt.show()"
     ],
     "language": "python",
     "metadata": {},
     "outputs": [],
     "prompt_number": 5
    },
    {
     "cell_type": "code",
     "collapsed": false,
     "input": [
      "import matplotlib\n",
      "from pylab import *\n",
      "\n",
      "val = 3-6*rand(5)    # the bar lengths        # changed your data slightly\n",
      "pos = arange(5)+.5    # the bar centers on the y axis\n",
      "print pos\n",
      "figure(1)\n",
      "barh(pos,val, align='center',height=0.1)    # notice the 'height' argument\n",
      "yticks(pos, ('Tom', 'Dick', 'Harry', 'Slim', 'Jim'))\n",
      "\n",
      "gca().axvline(0,color='k',lw=3)   # poor man's zero level\n",
      "\n",
      "xlabel('Performance')\n",
      "title('horizontal bar chart using matplotlib')\n",
      "grid(True)\n",
      "show()"
     ],
     "language": "python",
     "metadata": {},
     "outputs": [
      {
       "output_type": "stream",
       "stream": "stdout",
       "text": [
        "[ 0.5  1.5  2.5  3.5  4.5]\n"
       ]
      }
     ],
     "prompt_number": 18
    },
    {
     "cell_type": "code",
     "collapsed": false,
     "input": [],
     "language": "python",
     "metadata": {},
     "outputs": []
    }
   ],
   "metadata": {}
  }
 ]
}